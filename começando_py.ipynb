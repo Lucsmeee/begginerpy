{
  "nbformat": 4,
  "nbformat_minor": 0,
  "metadata": {
    "colab": {
      "provenance": []
    },
    "kernelspec": {
      "name": "python3",
      "display_name": "Python 3"
    },
    "language_info": {
      "name": "python"
    }
  },
  "cells": [
    {
      "cell_type": "code",
      "execution_count": 1,
      "metadata": {
        "colab": {
          "base_uri": "https://localhost:8080/"
        },
        "id": "-DuxR0v6u8d-",
        "outputId": "25a57f26-a930-48c9-e06a-f99eb26787f8"
      },
      "outputs": [
        {
          "output_type": "stream",
          "name": "stdout",
          "text": [
            "Digite seu nome: Lucas\n",
            "Olá, Lucas\n"
          ]
        }
      ],
      "source": [
        "#coleta amostragem de dados.\n",
        "\n",
        "comprimento = input('Digite seu nome: ')\n",
        "print(f'Olá, {comprimento}')"
      ]
    },
    {
      "cell_type": "code",
      "source": [
        "nome = input('Digite seu nome: ')\n",
        "idade = input('Digite sua idade: ')\n",
        "altura = float(input('Digite sua altura em Metros: '))\n",
        "\n",
        "print(f'Olá {nome}, sua idade é de {idade} e você mede {altura} metros de altura.')"
      ],
      "metadata": {
        "colab": {
          "base_uri": "https://localhost:8080/"
        },
        "id": "C2pWPPibvQAD",
        "outputId": "066a4970-6a93-4924-d6c0-f41b8a8fc761"
      },
      "execution_count": 5,
      "outputs": [
        {
          "output_type": "stream",
          "name": "stdout",
          "text": [
            "Digite seu nome: Lucas\n",
            "Digite sua idade: 23\n",
            "Digite sua altura em Metros: 1.90\n",
            "Olá Lucas, sua idade é de 23 e você mede 1.9 metros de altura.\n"
          ]
        }
      ]
    },
    {
      "cell_type": "code",
      "source": [
        "#calculadora com operadores.\n",
        "\n",
        "#soma de dois valores\n",
        "n1 = float(input('Digite um número: '))\n",
        "n2 = float(input('Digite um número: '))\n",
        "\n",
        "soma = n1 + n2\n",
        "\n",
        "print(f'A soma dos valores solicitados é de {soma}')"
      ],
      "metadata": {
        "colab": {
          "base_uri": "https://localhost:8080/"
        },
        "id": "AV-mkTlUvbGK",
        "outputId": "165e2284-0433-4292-d3cb-ab2b4463412e"
      },
      "execution_count": 9,
      "outputs": [
        {
          "output_type": "stream",
          "name": "stdout",
          "text": [
            "Digite um número: 1\n",
            "Digite um número: 2\n",
            "A soma dos valores solicitados é de 3.0\n"
          ]
        }
      ]
    },
    {
      "cell_type": "code",
      "source": [
        "#soma de 3 valores\n",
        "n1 = float(input('insira um número: '))\n",
        "n2 = float(input('insira um número: '))\n",
        "n3 = float(input('insira um número: '))\n",
        "\n",
        "soma  = n1 + n2 + n3\n",
        "\n",
        "print(f'A soma dos valores é de {soma}')"
      ],
      "metadata": {
        "colab": {
          "base_uri": "https://localhost:8080/"
        },
        "id": "vUoFc-5GwZiE",
        "outputId": "5baca610-521f-4039-cb6a-1a12a629a480"
      },
      "execution_count": 10,
      "outputs": [
        {
          "output_type": "stream",
          "name": "stdout",
          "text": [
            "insira um número: 1\n",
            "insira um número: 2\n",
            "insira um número: 3\n",
            "A soma dos valores é de 6.0\n"
          ]
        }
      ]
    },
    {
      "cell_type": "code",
      "source": [
        "#multiplicação de 2 valores\n",
        "\n",
        "n1 = float(input('Insira um valor numérico: '))\n",
        "n2 = float(input('Insira um valor numérico: '))\n",
        "\n",
        "multiplicacao = n1 * n2\n",
        "\n",
        "print(f'A multiplicação dos valores tem resultado de {multiplicacao}')"
      ],
      "metadata": {
        "colab": {
          "base_uri": "https://localhost:8080/"
        },
        "id": "EdFGe_3qw0Wv",
        "outputId": "7527bad7-dd40-433c-d59b-cfbd01702570"
      },
      "execution_count": 11,
      "outputs": [
        {
          "output_type": "stream",
          "name": "stdout",
          "text": [
            "Insira um valor numérico: 2\n",
            "Insira um valor numérico: 3\n",
            "A multiplicação dos valores tem resultado de 6.0\n"
          ]
        }
      ]
    },
    {
      "cell_type": "code",
      "source": [
        "#divisao de valores\n",
        "#denominador não pode ser ZERO.\n",
        "numerador = float(input('Insira o valor do numerador: '))\n",
        "\n",
        "denominador = float(input('Insira o valor do denominador: '))\n",
        "if denominador == 0:\n",
        "  print('Denominador tem que ser diferente de 0, tente novamente')\n",
        "  denominador = float(input('Insira o valor do denominador: '))\n",
        "\n",
        "resultado = numerador / denominador\n",
        "\n",
        "print(f'O resultado da Divisão dos valores escolhidos é de {resultado}')\n",
        "\n"
      ],
      "metadata": {
        "colab": {
          "base_uri": "https://localhost:8080/"
        },
        "id": "0GrlQVaIxUG_",
        "outputId": "77a0a3f9-3743-4405-b3de-1b5cdbdaf77d"
      },
      "execution_count": 18,
      "outputs": [
        {
          "output_type": "stream",
          "name": "stdout",
          "text": [
            "Insira o valor do numerador: 6\n",
            "Insira o valor do denominador: 3\n",
            "O resultado da Divisão dos valores escolhidos é de 2.0\n"
          ]
        }
      ]
    },
    {
      "cell_type": "code",
      "source": [
        "#exponente\n",
        "\n",
        "n = float(input('Digite um Número: '))\n",
        "\n",
        "expoente = int(input('Digite o valor do expoente: '))\n",
        "\n",
        "resultado = n ** expoente\n",
        "\n",
        "print(f'O valor do resultado da exponenciação é de {resultado}')"
      ],
      "metadata": {
        "colab": {
          "base_uri": "https://localhost:8080/"
        },
        "id": "asykVRuMyHIg",
        "outputId": "19c43f2b-a752-4423-8017-614a6416fe7e"
      },
      "execution_count": 19,
      "outputs": [
        {
          "output_type": "stream",
          "name": "stdout",
          "text": [
            "Digite um Número: 2\n",
            "Digite o valor do expoente: 3\n",
            "O valor do resultado da exponenciação é de 8.0\n"
          ]
        }
      ]
    },
    {
      "cell_type": "code",
      "source": [
        "#divisao de inteiros\n",
        "while True:\n",
        "  numerador = int(input('Insira um valor inteiro para o numerador: '))\n",
        "  if numerador !=0:\n",
        "    break\n",
        "  else:\n",
        "    print('É necessário que o valor do numerador seja diferente de Zero.')\n",
        "\n",
        "while True:\n",
        "  denominador = int(input('Insira um valor inteiro para o denominador: '))\n",
        "  if denominador != 0:\n",
        "    break\n",
        "  else:\n",
        "    print('É necessário que o valor do denominador seja diferente de zero e inteiro. Tente novamente!')\n",
        "\n",
        "resultado =  numerador /denominador\n",
        "\n",
        "print(f'O resultado da divisão entre os valores solicitados é de {resultado}')"
      ],
      "metadata": {
        "colab": {
          "base_uri": "https://localhost:8080/"
        },
        "id": "goUulYZ-0P3u",
        "outputId": "ba358099-73e4-423a-90a6-517659b15611"
      },
      "execution_count": 35,
      "outputs": [
        {
          "output_type": "stream",
          "name": "stdout",
          "text": [
            "Insira um valor inteiro para o numerador: 0\n",
            "É necessário que o valor do numerador seja diferente de Zero.\n",
            "Insira um valor inteiro para o numerador: 0\n",
            "É necessário que o valor do numerador seja diferente de Zero.\n",
            "Insira um valor inteiro para o numerador: 2\n",
            "Insira um valor inteiro para o denominador: 0\n",
            "É necessário que o valor do denominador seja diferente de zero e inteiro. Tente novamente!\n",
            "Insira um valor inteiro para o denominador: 2\n",
            "O resultado da divisão entre os valores solicitados é de 1.0\n"
          ]
        }
      ]
    },
    {
      "cell_type": "code",
      "source": [
        "#divisão.\n",
        "\n",
        "while True:\n",
        "  numerador = float(input('Insira um valor inteiro para o numerador: '))\n",
        "  if numerador !=0:\n",
        "    break\n",
        "  else:\n",
        "    print('É necessário que o valor do numerador seja diferente de Zero.')\n",
        "\n",
        "while True:\n",
        "  denominador = float(input('Insira um valor inteiro para o denominador: '))\n",
        "  if denominador != 0:\n",
        "    break\n",
        "  else:\n",
        "    print('É necessário que o valor do denominador seja diferente de zero e inteiro. Tente novamente!')\n",
        "\n",
        "resultado =  numerador /denominador\n",
        "resto = numerador % denominador\n",
        "\n",
        "print(f'O resultado da divisão entre os valores solicitados é de {resultado} e o resto da divisão é de {resto}')"
      ],
      "metadata": {
        "colab": {
          "base_uri": "https://localhost:8080/"
        },
        "id": "q2ZDduQ809Pu",
        "outputId": "f8162f0b-b051-48cc-ab9a-3eaa757b73c4"
      },
      "execution_count": 38,
      "outputs": [
        {
          "output_type": "stream",
          "name": "stdout",
          "text": [
            "Insira um valor inteiro para o numerador: 10\n",
            "Insira um valor inteiro para o denominador: 3\n",
            "O resultado da divisão entre os valores solicitados é de 3.3333333333333335 e o resto da divisão é de 1.0\n"
          ]
        }
      ]
    },
    {
      "cell_type": "code",
      "source": [
        "#média de 3 notas\n",
        "\n",
        "n1 = float(input('insira a nota do aluno: '))\n",
        "n2 = float(input('insira a nota do aluno: '))\n",
        "n3 = float(input('insira a nota do aluno: '))\n",
        "\n",
        "media = (n1 + n2 + n3)/3\n",
        "\n",
        "print(f'A média do Aluno é de {media}')"
      ],
      "metadata": {
        "colab": {
          "base_uri": "https://localhost:8080/"
        },
        "id": "8fqNtFdG4URc",
        "outputId": "824fb628-efdb-4494-87ea-a8e7cba3f625"
      },
      "execution_count": 48,
      "outputs": [
        {
          "output_type": "stream",
          "name": "stdout",
          "text": [
            "insira a nota do aluno: 6\n",
            "insira a nota do aluno: 6\n",
            "insira a nota do aluno: 6\n",
            "A média do Aluno é de 6.0\n"
          ]
        }
      ]
    },
    {
      "cell_type": "code",
      "source": [
        "#média ponderada\n",
        "\n",
        "n1 = float(input('insira a nota do aluno: '))\n",
        "n2 = float(input('insira a nota do aluno: '))\n",
        "n3 = float(input('insira a nota do aluno: '))\n",
        "n4 = float(input('insira a nota do aluno: '))\n",
        "\n",
        "p1 = float(input('insira o peso: '))\n",
        "p2 = float(input('insira o peso: '))\n",
        "p3 = float(input('insira o peso: '))\n",
        "p4 = float(input('insira o peso: '))\n",
        "\n",
        "mp = ((n1*p1) + (n2*p2) + (n3*p3) + (n4*p4)) / (p1 + p2 + p3 + p4)\n",
        "\n",
        "print(f'O resultado da média ponderada é de {mp}')"
      ],
      "metadata": {
        "colab": {
          "base_uri": "https://localhost:8080/"
        },
        "id": "DBJxvffs5Lci",
        "outputId": "3c162620-da54-4ce8-e27e-224e3ec5b962"
      },
      "execution_count": 53,
      "outputs": [
        {
          "output_type": "stream",
          "name": "stdout",
          "text": [
            "insira a nota do aluno: 5\n",
            "insira a nota do aluno: 12\n",
            "insira a nota do aluno: 20\n",
            "insira a nota do aluno: 15\n",
            "insira o peso: 1\n",
            "insira o peso: 2\n",
            "insira o peso: 3\n",
            "insira o peso: 4\n",
            "O resultado da média ponderada é de 14.9\n"
          ]
        }
      ]
    },
    {
      "cell_type": "code",
      "source": [
        "#editando texto\n",
        "\n",
        "frase = 'Faça da vida um filme'\n",
        "frase"
      ],
      "metadata": {
        "colab": {
          "base_uri": "https://localhost:8080/",
          "height": 35
        },
        "id": "tweVG1PU6Vhi",
        "outputId": "9a2eeeaf-a8e3-4970-8eb1-f64560331ca5"
      },
      "execution_count": 54,
      "outputs": [
        {
          "output_type": "execute_result",
          "data": {
            "text/plain": [
              "'Faça da vida um filme'"
            ],
            "application/vnd.google.colaboratory.intrinsic+json": {
              "type": "string"
            }
          },
          "metadata": {},
          "execution_count": 54
        }
      ]
    },
    {
      "cell_type": "code",
      "source": [
        "frase = input('Insira um frase: ')\n",
        "frase"
      ],
      "metadata": {
        "colab": {
          "base_uri": "https://localhost:8080/",
          "height": 53
        },
        "id": "mBgRgr_w6stv",
        "outputId": "5ccbb4bb-dea6-4a5e-9151-fc0f60652fff"
      },
      "execution_count": 55,
      "outputs": [
        {
          "name": "stdout",
          "output_type": "stream",
          "text": [
            "Insira um frase: Seja corajoso\n"
          ]
        },
        {
          "output_type": "execute_result",
          "data": {
            "text/plain": [
              "'Seja corajoso'"
            ],
            "application/vnd.google.colaboratory.intrinsic+json": {
              "type": "string"
            }
          },
          "metadata": {},
          "execution_count": 55
        }
      ]
    },
    {
      "cell_type": "code",
      "source": [
        "frase = input('Insira um frase: ')\n",
        "frase.upper()"
      ],
      "metadata": {
        "colab": {
          "base_uri": "https://localhost:8080/",
          "height": 53
        },
        "id": "FUuS1HrZ7cmR",
        "outputId": "d3595768-6562-46b9-bd23-7b82aa88711e"
      },
      "execution_count": 56,
      "outputs": [
        {
          "name": "stdout",
          "output_type": "stream",
          "text": [
            "Insira um frase: Seja temido\n"
          ]
        },
        {
          "output_type": "execute_result",
          "data": {
            "text/plain": [
              "'SEJA TEMIDO'"
            ],
            "application/vnd.google.colaboratory.intrinsic+json": {
              "type": "string"
            }
          },
          "metadata": {},
          "execution_count": 56
        }
      ]
    },
    {
      "cell_type": "code",
      "source": [
        "frase = input('Insira um frase: ')\n",
        "frase.lower()"
      ],
      "metadata": {
        "colab": {
          "base_uri": "https://localhost:8080/",
          "height": 53
        },
        "id": "VoV_4Jb97m1G",
        "outputId": "5530202a-f985-4edc-d6fe-dc74ebc77b25"
      },
      "execution_count": 57,
      "outputs": [
        {
          "name": "stdout",
          "output_type": "stream",
          "text": [
            "Insira um frase: opa baum\n"
          ]
        },
        {
          "output_type": "execute_result",
          "data": {
            "text/plain": [
              "'opa baum'"
            ],
            "application/vnd.google.colaboratory.intrinsic+json": {
              "type": "string"
            }
          },
          "metadata": {},
          "execution_count": 57
        }
      ]
    },
    {
      "cell_type": "code",
      "source": [
        "frase = input('Frase do dia: ')\n",
        "frase.replace('e', 'f')"
      ],
      "metadata": {
        "colab": {
          "base_uri": "https://localhost:8080/",
          "height": 53
        },
        "id": "1C2hvBD071R9",
        "outputId": "e2a2c969-40fc-4b2b-8d22-82b42f222c2e"
      },
      "execution_count": 59,
      "outputs": [
        {
          "name": "stdout",
          "output_type": "stream",
          "text": [
            "Frase do dia: bem feito\n"
          ]
        },
        {
          "output_type": "execute_result",
          "data": {
            "text/plain": [
              "'bfm ffito'"
            ],
            "application/vnd.google.colaboratory.intrinsic+json": {
              "type": "string"
            }
          },
          "metadata": {},
          "execution_count": 59
        }
      ]
    },
    {
      "cell_type": "code",
      "source": [
        "Frase = input('Frase da semana: ')\n",
        "Frase.replace('a', '@')"
      ],
      "metadata": {
        "colab": {
          "base_uri": "https://localhost:8080/",
          "height": 53
        },
        "id": "j65cNh9N8DOi",
        "outputId": "2778e05d-b00e-4b27-9753-95ce10671b8c"
      },
      "execution_count": 60,
      "outputs": [
        {
          "name": "stdout",
          "output_type": "stream",
          "text": [
            "Frase da semana: eita como o arara ta azul.\n"
          ]
        },
        {
          "output_type": "execute_result",
          "data": {
            "text/plain": [
              "'eit@ como o @r@r@ t@ @zul.'"
            ],
            "application/vnd.google.colaboratory.intrinsic+json": {
              "type": "string"
            }
          },
          "metadata": {},
          "execution_count": 60
        }
      ]
    },
    {
      "cell_type": "code",
      "source": [
        "frase = input('Frase né: ')\n",
        "frase.replace('s', '$')"
      ],
      "metadata": {
        "colab": {
          "base_uri": "https://localhost:8080/",
          "height": 53
        },
        "id": "ifyXk3v28Soz",
        "outputId": "07f8f725-45ad-4900-dd6e-396036019783"
      },
      "execution_count": 61,
      "outputs": [
        {
          "name": "stdout",
          "output_type": "stream",
          "text": [
            "Frase né: sendo só isso \n"
          ]
        },
        {
          "output_type": "execute_result",
          "data": {
            "text/plain": [
              "'$endo $ó i$$o '"
            ],
            "application/vnd.google.colaboratory.intrinsic+json": {
              "type": "string"
            }
          },
          "metadata": {},
          "execution_count": 61
        }
      ]
    },
    {
      "cell_type": "code",
      "source": [],
      "metadata": {
        "id": "ORtsWnUp8jAi"
      },
      "execution_count": null,
      "outputs": []
    }
  ]
}