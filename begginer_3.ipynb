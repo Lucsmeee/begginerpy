{
  "nbformat": 4,
  "nbformat_minor": 0,
  "metadata": {
    "colab": {
      "provenance": [],
      "authorship_tag": "ABX9TyNCrMlEnT08JkDXuEujHbTj",
      "include_colab_link": true
    },
    "kernelspec": {
      "name": "python3",
      "display_name": "Python 3"
    },
    "language_info": {
      "name": "python"
    }
  },
  "cells": [
    {
      "cell_type": "markdown",
      "metadata": {
        "id": "view-in-github",
        "colab_type": "text"
      },
      "source": [
        "<a href=\"https://colab.research.google.com/github/Lucsmeee/begginerpy/blob/main/begginer_3.ipynb\" target=\"_parent\"><img src=\"https://colab.research.google.com/assets/colab-badge.svg\" alt=\"Open In Colab\"/></a>"
      ]
    },
    {
      "cell_type": "markdown",
      "source": [
        "\n",
        "\n",
        "\n",
        " Escreva um programa que peça dois números inteiros e imprima todos os números inteiros entre eles.\n",
        "\n"
      ],
      "metadata": {
        "id": "frt1EzbHyWcy"
      }
    },
    {
      "cell_type": "code",
      "execution_count": null,
      "metadata": {
        "colab": {
          "base_uri": "https://localhost:8080/"
        },
        "id": "a6AgHQ0qyL4D",
        "outputId": "a8ded8fc-2f3b-4269-f812-3c1de187b2ee"
      },
      "outputs": [
        {
          "output_type": "stream",
          "name": "stdout",
          "text": [
            "Insira um número inteiro: 0\n",
            "Insira um número inteiro: 10\n",
            "1\n",
            "2\n",
            "3\n",
            "4\n",
            "5\n",
            "6\n",
            "7\n",
            "8\n",
            "9\n"
          ]
        }
      ],
      "source": [
        "n = int(input('Insira um número inteiro: '))\n",
        "m = int(input('Insira um número inteiro: '))\n",
        "\n",
        "if n < m:\n",
        "  for x in range(n + 1, m):\n",
        "    print(x)\n",
        "\n",
        "else:\n",
        "  for x in range(m + 1, n):\n",
        "    print(x)"
      ]
    },
    {
      "cell_type": "markdown",
      "source": [
        "Escreva um programa para calcular quantos dias levará para a colônia de uma bactéria A ultrapassar ou igualar a colônia de uma bactéria B, com base nas taxas de crescimento de 3% e 1,5% respectivamente. Considere que a colônia A inicia com 4 elementos e a B com 10."
      ],
      "metadata": {
        "id": "ZW6X6e9D0GBL"
      }
    },
    {
      "cell_type": "code",
      "source": [
        "taxa_crescimento_A = 0.03\n",
        "taxa_crescimento_B = 0.015\n",
        "\n",
        "populacao_inicial_A = 4\n",
        "populacao_inicial_B = 10\n",
        "\n",
        "populacao_A = populacao_inicial_A\n",
        "populacao_B = populacao_inicial_B\n",
        "\n",
        "dias = 0\n",
        "\n",
        "while populacao_A < populacao_B:\n",
        "  crescimento_A =  populacao_A * (taxa_crescimento_A + 1)\n",
        "  crescimento_B =  populacao_B * (taxa_crescimento_B + 1)\n",
        "\n",
        "  populacao_A = crescimento_A\n",
        "  populacao_B = crescimento_B\n",
        "\n",
        "  dias += 1\n",
        "\n",
        "print(f'Levará {dias} dias para a colônia A se igualar ou ultrapassar à colônia B')"
      ],
      "metadata": {
        "colab": {
          "base_uri": "https://localhost:8080/"
        },
        "id": "0Ry-sW93yks5",
        "outputId": "d798e844-77be-44d6-d98f-d98e460a19ea"
      },
      "execution_count": null,
      "outputs": [
        {
          "output_type": "stream",
          "name": "stdout",
          "text": [
            "Levará 63 dias para a colônia A se igualar ou ultrapassar à colônia B\n"
          ]
        }
      ]
    },
    {
      "cell_type": "markdown",
      "source": [
        "Para tratar uma quantidade de 15 dados de avaliações de pessoas usuárias de um serviço da empresa, precisamos verificar se as notas são válidas. Então, escreva um programa que vai receber a nota de 0 a 5 de todos os dados e verificar se é um valor válido. Caso seja inserido uma nota acima de 5 ou abaixo de 0, repita até que a pessoa usuária insira um valor válido."
      ],
      "metadata": {
        "id": "AstBDTah_c85"
      }
    },
    {
      "cell_type": "code",
      "source": [
        "for i in range(15):\n",
        "  nota = float(input('Insira sua avaliação entre 0 e 5: '))\n",
        "\n",
        "  while (nota < 0) or  nota > 5:\n",
        "    nota = float(input('Valor Inválido! Insira sua avaliação entre 0 e 5: '))\n",
        "\n",
        "print('Todas as notas são válidas')"
      ],
      "metadata": {
        "colab": {
          "base_uri": "https://localhost:8080/"
        },
        "id": "A1M4Vjok3fD7",
        "outputId": "a61a9393-4305-47b2-9ce4-b52a242b59af"
      },
      "execution_count": null,
      "outputs": [
        {
          "output_type": "stream",
          "name": "stdout",
          "text": [
            "Insira sua avaliação entre 0 e 5: 6\n",
            "Valor Inválido! Insira sua avaliação entre 0 e 5: 1\n",
            "Insira sua avaliação entre 0 e 5: 2\n",
            "Insira sua avaliação entre 0 e 5: 3\n",
            "Insira sua avaliação entre 0 e 5: 4\n",
            "Insira sua avaliação entre 0 e 5: 5\n",
            "Insira sua avaliação entre 0 e 5: 7\n",
            "Valor Inválido! Insira sua avaliação entre 0 e 5: 1\n",
            "Insira sua avaliação entre 0 e 5: 2\n",
            "Insira sua avaliação entre 0 e 5: 3\n",
            "Insira sua avaliação entre 0 e 5: 4\n",
            "Insira sua avaliação entre 0 e 5: 5\n",
            "Insira sua avaliação entre 0 e 5: 1\n",
            "Insira sua avaliação entre 0 e 5: 2\n",
            "Insira sua avaliação entre 0 e 5: 3\n",
            "Insira sua avaliação entre 0 e 5: 4\n",
            "Insira sua avaliação entre 0 e 5: 5\n",
            "Todas as notas são válidas\n"
          ]
        }
      ]
    },
    {
      "cell_type": "markdown",
      "source": [
        " Desenvolva um programa que leia um conjunto indeterminado de temperaturas em Celsius e informe a média delas. A leitura deve ser encerrada ao ser enviado o valor -273°C."
      ],
      "metadata": {
        "id": "egFojN-mCmR6"
      }
    },
    {
      "cell_type": "code",
      "source": [
        "while True:\n",
        "  temperatura = float(input('Insira uma temperatura em Celsius (ou -273 para encerrar): '))\n",
        "\n",
        "  if temperatura == -273:\n",
        "    break\n",
        "\n",
        "  temperaturas.append(temperatura)\n",
        "\n",
        "if len(temperaturas) > 0:\n",
        "  media = sum(temperaturas) / len(temperaturas)\n",
        "  print(f'A média das temperatura é de {media:.2f} graus Celsius')\n",
        "\n",
        "else:\n",
        "  print('Nenhum Valor Inserido')"
      ],
      "metadata": {
        "colab": {
          "base_uri": "https://localhost:8080/"
        },
        "id": "rKHgdpvUBCrL",
        "outputId": "cb27d097-b130-4874-9cc9-796d21eb01be"
      },
      "execution_count": null,
      "outputs": [
        {
          "output_type": "stream",
          "name": "stdout",
          "text": [
            "Insira uma temperatura em Celsius: 10\n",
            "Insira uma temperatura em Celsius: 9\n",
            "Insira uma temperatura em Celsius: 0.5\n",
            "Insira uma temperatura em Celsius: 40\n",
            "Insira uma temperatura em Celsius: 30\n",
            "Insira uma temperatura em Celsius: 20\n",
            "Insira uma temperatura em Celsius: 12\n",
            "Insira uma temperatura em Celsius: 21\n",
            "Insira uma temperatura em Celsius: -273\n",
            "A média das temperatura é de 10.97 graus Celsius\n"
          ]
        }
      ]
    },
    {
      "cell_type": "markdown",
      "source": [
        " Escreva um programa que calcule o fatorial de um número inteiro fornecido pela pessoa usuária. Lembrando que o fatorial de um número inteiro é a multiplicação desse número por todos os seus antecessores até o número 1. Por exemplo, o fatorial de 5 é 5 x 4 x 3 x 2 x 1 = 120."
      ],
      "metadata": {
        "id": "OsPRtIeuFftJ"
      }
    },
    {
      "cell_type": "code",
      "source": [
        "n = int(input('Insira um Número inteiro: '))\n",
        "\n",
        "fatorial = 1\n",
        "\n",
        "i = n\n",
        "\n",
        "while i > 0:\n",
        "  fatorial *= i\n",
        "  i -= 1\n",
        "\n",
        "print(f'O valor fatorial de {n} é {fatorial}')\n"
      ],
      "metadata": {
        "colab": {
          "base_uri": "https://localhost:8080/"
        },
        "id": "7ROKXvdkDVCm",
        "outputId": "8983c66f-7722-4c77-a350-6942946c3544"
      },
      "execution_count": null,
      "outputs": [
        {
          "output_type": "stream",
          "name": "stdout",
          "text": [
            "Insira um Número inteiro: 5\n",
            "O valor fatorial de 5 é 120\n"
          ]
        }
      ]
    },
    {
      "cell_type": "markdown",
      "source": [
        " Escreva um programa que gere a tabuada de um número inteiro de 1 a 10, de acordo com a escolha da pessoa usuária. Como exemplo, para o número 2, a tabuada deve ser mostrada no seguinte formato:"
      ],
      "metadata": {
        "id": "Yfubsa69PYEO"
      }
    },
    {
      "cell_type": "code",
      "source": [
        "n = int(input('Escreva o número que deseja obter a tabuada de 1 a 10: '))\n",
        "\n",
        "print(f'Tabuada do número {n}')\n",
        "\n",
        "for i in range (1,11):\n",
        "  resultado = n * i\n",
        "  print(f'{n} x {i} = {resultado}')"
      ],
      "metadata": {
        "id": "0w3fC5ICEFgM",
        "colab": {
          "base_uri": "https://localhost:8080/"
        },
        "outputId": "d51d338e-3e6e-464c-86ba-02041cd2f873"
      },
      "execution_count": 2,
      "outputs": [
        {
          "output_type": "stream",
          "name": "stdout",
          "text": [
            "Escreva o número que deseja obter a tabuada de 1 a 10: 5\n",
            "Tabuada do número 5\n",
            "5 x 1 = 5\n",
            "5 x 2 = 10\n",
            "5 x 3 = 15\n",
            "5 x 4 = 20\n",
            "5 x 5 = 25\n",
            "5 x 6 = 30\n",
            "5 x 7 = 35\n",
            "5 x 8 = 40\n",
            "5 x 9 = 45\n",
            "5 x 10 = 50\n"
          ]
        }
      ]
    },
    {
      "cell_type": "markdown",
      "source": [
        "Os números primos possuem várias aplicações dentro da Ciência de Dados em criptografia e segurança, por exemplo. Um número primo é aquele que é divisível apenas por um e por ele mesmo. Assim, faça um programa que peça um número inteiro e determine se ele é ou não um número primo."
      ],
      "metadata": {
        "id": "FtYIghkDQJ88"
      }
    },
    {
      "cell_type": "code",
      "source": [
        "#coletamos o número\n",
        "num = int(input('Insira um número inteiro: '))\n",
        "\n",
        "# números inteiros iguais ou abaixo de 1 não consideramos primos\n",
        "if num > 1:\n",
        "    for i in range(2, num):\n",
        "        # verificamos todos os restos de divisões entre todos os números abaixo de num\n",
        "        # se algum resto for 0, então ele é divisível por outro número além dele e 1\n",
        "        if (num % i) == 0:\n",
        "            print(f'{num} não é um número primo')\n",
        "            break\n",
        "    else:\n",
        "        print(f'{num} é um número primo')\n",
        "else:\n",
        "    print(f'{num} não é um número primo')\n"
      ],
      "metadata": {
        "colab": {
          "base_uri": "https://localhost:8080/"
        },
        "id": "9ZbRtUb8QAvH",
        "outputId": "47f8a377-7d3c-47d2-f40f-579a7fce9b3d"
      },
      "execution_count": 3,
      "outputs": [
        {
          "output_type": "stream",
          "name": "stdout",
          "text": [
            "Insira um número inteiro: 13\n",
            "13 é um número primo\n"
          ]
        }
      ]
    },
    {
      "cell_type": "markdown",
      "source": [
        " Vamos entender a distribuição de idades de pensionistas de uma empresa de previdência. Escreva um programa que leia as idades de uma quantidade não informada de clientes e mostre a distribuição em intervalos de [0-25], [26-50], [51-75] e [76-100]. Encerre a entrada de dados com um número negativo."
      ],
      "metadata": {
        "id": "OYBwQ0f2Q1yQ"
      }
    },
    {
      "cell_type": "code",
      "source": [
        "# Coletamos as idades dos clientes\n",
        "idade = int(input('Informe a idade (ou um número negativo para encerrar): '))\n",
        "\n",
        "# Inicializamos as variáveis de contadores\n",
        "contador_0_25 = 0 # contador de idades entre 0 e 25\n",
        "contador_26_50 = 0 # contador de idades entre 26 e 50\n",
        "contador_51_75 = 0 # contador de idades entre 51 e 75\n",
        "contador_76_100 = 0 # contador de idades entre 76 e 100\n",
        "\n",
        "# nosso código executa sempre até o valor de idade for negativa\n",
        "while idade >= 0:\n",
        "    # contamos cada caso\n",
        "    if idade >= 0 and idade <= 25:\n",
        "        contador_0_25 += 1\n",
        "    elif idade >= 26 and idade <= 50:\n",
        "        contador_26_50 += 1\n",
        "    elif idade >= 51 and idade <= 75:\n",
        "        contador_51_75 += 1\n",
        "    elif idade >= 76 and idade <= 100:\n",
        "        contador_76_100 += 1\n",
        "\n",
        "    # Repetir o processo de entrada de dados até que seja digitado um número negativo\n",
        "    idade = int(input('Informe a idade (ou um número negativo para encerrar): '))\n",
        "\n",
        "# Mostramos os resultados\n",
        "print('Distribuição de idades:')\n",
        "print('[0-25]:', contador_0_25)\n",
        "print('[26-50]:', contador_26_50)\n",
        "print('[51-75]:', contador_51_75)\n",
        "print('[76-100]:', contador_76_100)\n"
      ],
      "metadata": {
        "colab": {
          "base_uri": "https://localhost:8080/"
        },
        "id": "iDDKnaYTQqtD",
        "outputId": "52fd4af2-672a-4ee6-8ce8-a5a7e5037513"
      },
      "execution_count": 4,
      "outputs": [
        {
          "output_type": "stream",
          "name": "stdout",
          "text": [
            "Informe a idade (ou um número negativo para encerrar): 1\n",
            "Informe a idade (ou um número negativo para encerrar): 10\n",
            "Informe a idade (ou um número negativo para encerrar): 20\n",
            "Informe a idade (ou um número negativo para encerrar): 30\n",
            "Informe a idade (ou um número negativo para encerrar): 90\n",
            "Informe a idade (ou um número negativo para encerrar): 20\n",
            "Informe a idade (ou um número negativo para encerrar): 21\n",
            "Informe a idade (ou um número negativo para encerrar): 38\n",
            "Informe a idade (ou um número negativo para encerrar): 43\n",
            "Informe a idade (ou um número negativo para encerrar): 64\n",
            "Informe a idade (ou um número negativo para encerrar): 76\n",
            "Informe a idade (ou um número negativo para encerrar): 34\n",
            "Informe a idade (ou um número negativo para encerrar): 87\n",
            "Informe a idade (ou um número negativo para encerrar): 55\n",
            "Informe a idade (ou um número negativo para encerrar): 44\n",
            "Informe a idade (ou um número negativo para encerrar): 34\n",
            "Informe a idade (ou um número negativo para encerrar): 39\n",
            "Informe a idade (ou um número negativo para encerrar): 27\n",
            "Informe a idade (ou um número negativo para encerrar): 17\n",
            "Informe a idade (ou um número negativo para encerrar): 1\n",
            "Informe a idade (ou um número negativo para encerrar): 9\n",
            "Informe a idade (ou um número negativo para encerrar): 2\n",
            "Informe a idade (ou um número negativo para encerrar): 6\n",
            "Informe a idade (ou um número negativo para encerrar): 87\n",
            "Informe a idade (ou um número negativo para encerrar): 43\n",
            "Informe a idade (ou um número negativo para encerrar): 23\n",
            "Informe a idade (ou um número negativo para encerrar): 43\n",
            "Informe a idade (ou um número negativo para encerrar): 42\n",
            "Informe a idade (ou um número negativo para encerrar): 31\n",
            "Informe a idade (ou um número negativo para encerrar): -1\n",
            "Distribuição de idades:\n",
            "[0-25]: 11\n",
            "[26-50]: 12\n",
            "[51-75]: 2\n",
            "[76-100]: 4\n"
          ]
        }
      ]
    },
    {
      "cell_type": "markdown",
      "source": [
        "Em uma eleição para gerência em uma empresa com 20 pessoas colaboradoras, existem quatro candidatos(as). Escreva um programa que calcule o(a) vencedor(a) da eleição. A votação ocorreu da seguinte maneira:\n",
        "\n",
        "Cada colaborador(a) votou em uma das quatro pessoas candidatas (que representamos pelos números 1, 2, 3 e 4).\n",
        "Também foram contabilizados os votos nulos (representados pelo número 5) e os votos em branco (representados pelo número 6).\n",
        "Ao final da votação, o programa deve exibir o número total de votos para cada candidato(a), os nulos e os votos em branco. Além disso, deve calcular e exibir a porcentagem de votos nulos em relação ao total de votos e a porcentagem de votos em branco em relação ao total de votos."
      ],
      "metadata": {
        "id": "8aLfkgX5Rigv"
      }
    },
    {
      "cell_type": "code",
      "source": [
        "# Inicializamos as variáveis contadoras\n",
        "votos_candidato1 = 0\n",
        "votos_candidato2 = 0\n",
        "votos_candidato3 = 0\n",
        "votos_candidato4 = 0\n",
        "votos_nulos = 0\n",
        "votos_branco = 0\n",
        "\n",
        "# Início do laço para ler os votos\n",
        "for i in range(0,20):\n",
        "    voto = int(input('Informe seu voto: '))\n",
        "    if voto == 1:\n",
        "        votos_candidato1 += 1\n",
        "    elif voto == 2:\n",
        "        votos_candidato2 += 1\n",
        "    elif voto == 3:\n",
        "        votos_candidato3 += 1\n",
        "    elif voto == 4:\n",
        "        votos_candidato4 += 1\n",
        "    elif voto == 5:\n",
        "        votos_nulos += 1\n",
        "    elif voto == 6:\n",
        "        votos_branco += 1\n",
        "    else:\n",
        "        print(\"Voto inválido.\")\n",
        "\n",
        "print(f'Votos candidato 1: {votos_candidato1}')\n",
        "print(f'Votos candidato 2: {votos_candidato2}')\n",
        "print(f'Votos candidato 3: {votos_candidato3}')\n",
        "print(f'Votos candidato 4: {votos_candidato4}')\n",
        "print(f'Votos nulos: {votos_nulos}')\n",
        "print(f'Votos em branco: {votos_branco}')\n",
        "print(f'Percentual de votos nulos: {(votos_nulos / 20 * 100)}')\n",
        "print(f'Percentual de votos em branco: {(votos_branco / 20 * 100)}')\n"
      ],
      "metadata": {
        "colab": {
          "base_uri": "https://localhost:8080/"
        },
        "id": "tj-5w6RYRIjz",
        "outputId": "577effb5-2c3e-472a-95aa-8182049b884c"
      },
      "execution_count": 5,
      "outputs": [
        {
          "output_type": "stream",
          "name": "stdout",
          "text": [
            "Informe seu voto: 1\n",
            "Informe seu voto: 2\n",
            "Informe seu voto: 3\n",
            "Informe seu voto: 4\n",
            "Informe seu voto: 1\n",
            "Informe seu voto: 2\n",
            "Informe seu voto: 3\n",
            "Informe seu voto: 4\n",
            "Informe seu voto: 1\n",
            "Informe seu voto: 2\n",
            "Informe seu voto: 3\n",
            "Informe seu voto: 4\n",
            "Informe seu voto: 1\n",
            "Informe seu voto: 2\n",
            "Informe seu voto: 3\n",
            "Informe seu voto: 4\n",
            "Informe seu voto: 1\n",
            "Informe seu voto: 2\n",
            "Informe seu voto: 3\n",
            "Informe seu voto: 4\n",
            "Votos candidato 1: 5\n",
            "Votos candidato 2: 5\n",
            "Votos candidato 3: 5\n",
            "Votos candidato 4: 5\n",
            "Votos nulos: 0\n",
            "Votos em branco: 0\n",
            "Percentual de votos nulos: 0.0\n",
            "Percentual de votos em branco: 0.0\n"
          ]
        }
      ]
    },
    {
      "cell_type": "code",
      "source": [],
      "metadata": {
        "id": "wcQKAA00RlqI"
      },
      "execution_count": null,
      "outputs": []
    }
  ]
}