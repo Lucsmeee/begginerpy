{
  "nbformat": 4,
  "nbformat_minor": 0,
  "metadata": {
    "colab": {
      "provenance": [],
      "authorship_tag": "ABX9TyM9yJR1oGoPX+s+HDe29Rot",
      "include_colab_link": true
    },
    "kernelspec": {
      "name": "python3",
      "display_name": "Python 3"
    },
    "language_info": {
      "name": "python"
    }
  },
  "cells": [
    {
      "cell_type": "markdown",
      "metadata": {
        "id": "view-in-github",
        "colab_type": "text"
      },
      "source": [
        "<a href=\"https://colab.research.google.com/github/Lucsmeee/begginerpy/blob/main/begginner_2.ipynb\" target=\"_parent\"><img src=\"https://colab.research.google.com/assets/colab-badge.svg\" alt=\"Open In Colab\"/></a>"
      ]
    },
    {
      "cell_type": "code",
      "execution_count": null,
      "metadata": {
        "id": "ftM1U74k66s_"
      },
      "outputs": [],
      "source": [
        "#1) Escreva um programa que peça à pessoa usuária para fornecer dois números e exibir o número maior."
      ]
    },
    {
      "cell_type": "code",
      "source": [
        "n1 = input('Escreva o primeiro número: ')\n",
        "n2 = input('Escreva o segundo número: ')\n",
        "\n",
        "if n1 > n2:\n",
        "  print(f'O maior número entre os escolihdos foi {n1}')\n",
        "else:\n",
        "  print(f'O maior numero entre os escolhidos foi {n2}')"
      ],
      "metadata": {
        "colab": {
          "base_uri": "https://localhost:8080/"
        },
        "id": "toVQZtJM7FOE",
        "outputId": "2d7ec845-9f53-41ca-f261-5bc5adda4c88"
      },
      "execution_count": null,
      "outputs": [
        {
          "output_type": "stream",
          "name": "stdout",
          "text": [
            "Escreva o primeiro número: 1-\n",
            "Escreva o segundo número: 10000\n",
            "O maior numero entre os escolhidos foi 10000\n"
          ]
        }
      ]
    },
    {
      "cell_type": "code",
      "source": [
        "#Escreva um programa que solicite o percentual de crescimento de produção de uma empresa e informe se houve um crescimento (porcentagem positiva) ou decrescimento (porcentagem negativa)."
      ],
      "metadata": {
        "id": "fzJW5DUo7b-x"
      },
      "execution_count": null,
      "outputs": []
    },
    {
      "cell_type": "code",
      "source": [
        "percentual = float(input('Digite o valor percentual de crescimento da população: '))\n",
        "\n",
        "if percentual > 0:\n",
        "  print(f'Houve um crescimeno de {percentual}%')\n",
        "elif percentual < 0:\n",
        "  print(f'Houve um decrescimento de {percentual}%')\n",
        "else:\n",
        "  print(f'Não houve variação')"
      ],
      "metadata": {
        "colab": {
          "base_uri": "https://localhost:8080/"
        },
        "id": "WMEwKscW8AUP",
        "outputId": "4345d3d7-55df-4608-c9d8-ac94c51ff779"
      },
      "execution_count": null,
      "outputs": [
        {
          "output_type": "stream",
          "name": "stdout",
          "text": [
            "Digite o valor percentual de crescimento da população: 0\n",
            "Não houve variação\n"
          ]
        }
      ]
    },
    {
      "cell_type": "code",
      "source": [
        "#Escreva um programa que determine se uma letra fornecida pela pessoa usuária é uma vogal ou consoante."
      ],
      "metadata": {
        "id": "KLFcm6Ju8F5E"
      },
      "execution_count": null,
      "outputs": []
    },
    {
      "cell_type": "code",
      "source": [
        "while True:\n",
        "  A = input('Escreva apenas letra: ').lower()\n",
        "  vogais='aeiou'\n",
        "  if len(A) == 1:\n",
        "    if A in vogais:\n",
        "      print(f'A letra digiada foi {A}, é uma vogal')\n",
        "    else:\n",
        "      print(f'A letra digitada foi {A}, é uma cossoante.')\n",
        "    break\n",
        "  else:\n",
        "    print('Insira apenas uma letra.')"
      ],
      "metadata": {
        "colab": {
          "base_uri": "https://localhost:8080/"
        },
        "id": "Mcpg-8Vj8IUU",
        "outputId": "75ca48ac-8b7b-4c0c-c577-0cae86af1c6d"
      },
      "execution_count": null,
      "outputs": [
        {
          "output_type": "stream",
          "name": "stdout",
          "text": [
            "Escreva apenas letra: c\n",
            "A letra digitada foi c, é uma cossoante.\n"
          ]
        }
      ]
    },
    {
      "cell_type": "code",
      "source": [
        "#Escreva um programa que leia valores médios de preços de um modelo de carro por 3 anos consecutivos e exiba o valor mais alto e mais baixo entre esses três anos.\n",
        "\n",
        "A1 = float(input('Escreva o valor do carro no primeiro ano: '))\n",
        "A2 = float(input('Escreva o valor do carro no segundo ano: '))\n",
        "A3 = float(input('Escreva o valor do carro no terceiro ano: '))\n",
        "\n",
        "media = (A1 + A2 + A3) / 3\n",
        "\n",
        "maior_valor = A1\n",
        "if A2 > maior_valor:\n",
        "  maior_valor = A2\n",
        "if A3 > maior_valor:\n",
        "  maior_valor = A3\n",
        "\n",
        "menor_valor = A1\n",
        "if A2 < menor_valor:\n",
        "  menor_valor = A2\n",
        "if A3 < menor_valor:\n",
        "  menor_valor = A3\n",
        "\n",
        "\n",
        "print(f'A média dos valores é {media}, o maior valor é de {maior_valor} e o menor valor é de {menor_valor}')"
      ],
      "metadata": {
        "colab": {
          "base_uri": "https://localhost:8080/"
        },
        "id": "fierz-Be9c_3",
        "outputId": "09c17944-5552-46bf-b288-ae551a1e0714"
      },
      "execution_count": null,
      "outputs": [
        {
          "output_type": "stream",
          "name": "stdout",
          "text": [
            "Escreva o valor do carro no primeiro ano: 200000\n",
            "Escreva o valor do carro no segundo ano: 125000\n",
            "Escreva o valor do carro no terceiro ano: 100000\n",
            "A média dos valores é 141666.66666666666, o maior valor é de 200000.0 e o menor valor é de 100000.0\n"
          ]
        }
      ]
    },
    {
      "cell_type": "code",
      "source": [
        "# Escreva um programa que pergunte sobre o preço de três produtos e indique qual é o produto mais barato para comprar.\n",
        "\n",
        "p1 = float(input('Valor do primeiro produto: '))\n",
        "p2 = float(input('Valor do segundo produto: '))\n",
        "p3 = float(input('Valor do terceiro produto: '))\n",
        "\n",
        "if p1 < p2 and p1 < p3:\n",
        "  menor = 'produto 1, p1'\n",
        "elif p2 < p1 and p2 < p3:\n",
        "  menor = 'produto 2, p1'\n",
        "else:\n",
        "  menor = 'produto 3, p3'\n",
        "\n",
        "print(f'O produto mais barato é o {menor}')"
      ],
      "metadata": {
        "colab": {
          "base_uri": "https://localhost:8080/"
        },
        "id": "GIFyBBy4CALJ",
        "outputId": "c404e9e4-6d29-4b17-a407-344f4b731d7c"
      },
      "execution_count": null,
      "outputs": [
        {
          "output_type": "stream",
          "name": "stdout",
          "text": [
            "Valor do primeiro produto: 10\n",
            "Valor do segundo produto: 20\n",
            "Valor do terceiro produto: 200\n",
            "O produto mais barato é o produto 1, p1\n"
          ]
        }
      ]
    },
    {
      "cell_type": "code",
      "source": [
        " #Escreva um programa que leia três números e os exiba em ordem decrescente.\n",
        "\n",
        "n1 = float(input('Escreva o primeiro numero: '))\n",
        "n2 = float(input('Escreva o segundo numero: '))\n",
        "n3 = float(input('Escreva o terceiro numero: '))\n",
        "\n",
        "maior = meio = menor = n1\n",
        "\n",
        "if n2 > maior:\n",
        "  meio = maior\n",
        "  maior = n2\n",
        "elif n2 < menor:\n",
        "  meio = menor\n",
        "  menor = n2\n",
        "else:\n",
        "  meio = n2\n",
        "\n",
        "if n3 > maior:\n",
        "  meio = maior\n",
        "  maior = n3\n",
        "elif n3< menor:\n",
        "  menor = menor\n",
        "  menor = n3\n",
        "else:\n",
        "  meio = n3\n",
        "\n",
        "print(maior, meio, menor)\n",
        ""
      ],
      "metadata": {
        "id": "aoZjoqX3EbRl",
        "colab": {
          "base_uri": "https://localhost:8080/"
        },
        "outputId": "dc217b49-8ead-4f0f-a579-5e4d553eb357"
      },
      "execution_count": 4,
      "outputs": [
        {
          "output_type": "stream",
          "name": "stdout",
          "text": [
            "Escreva o primeiro numero: 1\n",
            "Escreva o segundo numero: 2\n",
            "Escreva o terceiro numero: 3\n",
            "3.0 2.0 1.0\n"
          ]
        }
      ]
    },
    {
      "cell_type": "code",
      "source": [
        "n1 = float(input('Escreva o primeiro numero: '))\n",
        "n2 = float(input('Escreva o primeiro numero: '))\n",
        "n3 = float(input('Escreva o primeiro numero: '))\n",
        "\n",
        "lista = [n1,n2,n3]\n",
        "lista = sorted(lista, reverse = True)\n",
        "print(lista)"
      ],
      "metadata": {
        "colab": {
          "base_uri": "https://localhost:8080/"
        },
        "id": "KXMI-EkOBvWp",
        "outputId": "6be816ae-e792-4c7d-8666-0d35485a5a38"
      },
      "execution_count": 5,
      "outputs": [
        {
          "output_type": "stream",
          "name": "stdout",
          "text": [
            "Escreva o primeiro numero: 1\n",
            "Escreva o primeiro numero: 2\n",
            "Escreva o primeiro numero: 3\n",
            "[3.0, 2.0, 1.0]\n"
          ]
        }
      ]
    },
    {
      "cell_type": "code",
      "source": [
        "# Escreva um programa que pergunte em qual turno a pessoa usuária estuda (\"manhã\", \"tarde\" ou \"noite\") e exiba a mensagem \"Bom Dia!\", \"Boa Tarde!\", \"Boa Noite!\", ou \"Valor Inválido!\", conforme o caso.\n",
        "while True:\n",
        "\n",
        "  comprimento = input('Qual o seu turno: ').lower()\n",
        "  turnos = ('manhã', 'tarde', 'noite')\n",
        "\n",
        "  if comprimento in turnos:\n",
        "      if comprimento == 'manhã':\n",
        "          print('Bom Dia!')\n",
        "      elif comprimento == 'tarde':\n",
        "          print('Boa Tarde!')\n",
        "      else:\n",
        "          print('Boa noite!')\n",
        "      break\n",
        "\n",
        "  else:\n",
        "    print('Valor Invalido!')"
      ],
      "metadata": {
        "colab": {
          "base_uri": "https://localhost:8080/"
        },
        "id": "pxypYQa8DrJ8",
        "outputId": "51e94821-0b79-4055-b431-db94effeb150"
      },
      "execution_count": 24,
      "outputs": [
        {
          "output_type": "stream",
          "name": "stdout",
          "text": [
            "Qual o seu turno: sei la\n",
            "Valor Invalido!\n",
            "Qual o seu turno: tarde\n",
            "Boa Tarde!\n"
          ]
        }
      ]
    },
    {
      "cell_type": "code",
      "source": [
        "#descobrir se o número é par ou ímpar\n",
        "n = int(input('Escreva um numera inteiro: '))\n",
        "\n",
        "if n % 2 == 0:\n",
        "  print('O número é par')\n",
        "else:\n",
        "  print('O número é ímpar.')"
      ],
      "metadata": {
        "colab": {
          "base_uri": "https://localhost:8080/"
        },
        "id": "A8OFKUSoFxxZ",
        "outputId": "25f97fd3-5b4b-447e-93f0-cc8d07cc4e77"
      },
      "execution_count": 27,
      "outputs": [
        {
          "output_type": "stream",
          "name": "stdout",
          "text": [
            "Escreva um numera inteiro: 95\n",
            "O número é ímpar.\n"
          ]
        }
      ]
    },
    {
      "cell_type": "code",
      "source": [
        "# Escreva um programa que peça um número à pessoa usuária e informe se ele é inteiro ou decimal.\n",
        "n = float(input('Digite um numero:'))\n",
        "\n",
        "if n % 1 == 0:\n",
        "  print('O número é inteiro.')\n",
        "else:\n",
        "  print('O número é decimal.')"
      ],
      "metadata": {
        "colab": {
          "base_uri": "https://localhost:8080/"
        },
        "id": "rgoLUUSdG6ek",
        "outputId": "a8f927d1-6e41-4116-9e6c-16ead19bbd2e"
      },
      "execution_count": 29,
      "outputs": [
        {
          "output_type": "stream",
          "name": "stdout",
          "text": [
            "Digite um numero:3.2\n",
            "O número é decimal.\n"
          ]
        }
      ]
    },
    {
      "cell_type": "markdown",
      "source": [
        "Um programa deve ser escrito para ler dois números e, em seguida, perguntar à pessoa usuária qual operação ele deseja realizar. O resultado da operação deve incluir informações sobre o número - se é par ou ímpar, positivo ou negativo e inteiro ou decimal."
      ],
      "metadata": {
        "id": "UQY4VBBavjx0"
      }
    },
    {
      "cell_type": "code",
      "source": [
        "n1 = float(input('Digite o primeiro Número: '))\n",
        "n2 = float(input('Digite o segundo Número: '))\n",
        "\n",
        "conta = input('informe a operação com (+, -, * ou /): ')\n",
        "\n",
        "if conta == '+':\n",
        "  resultado = n1 + n2\n",
        "elif conta == '-':\n",
        "  resultado = n1 - n2\n",
        "elif conta ==  '*' :\n",
        "  resultado = n1 * n2\n",
        "elif conta == '/':\n",
        "  resultado = n1 / n2\n",
        "else:\n",
        "  print('Operação inválida')\n",
        "  resultado = 0\n",
        "\n",
        "if resultado %1 == 0:\n",
        "  print('Número inteiro')\n",
        "else:\n",
        "  print('Número decimal')\n",
        "\n",
        "if resultado %2 == 0:\n",
        "  print('Número par')\n",
        "else:\n",
        "  print('Número impar')\n",
        "\n",
        "if resultado > 0:\n",
        "  print('Número positivo')\n",
        "else:\n",
        "  print('Número Negativo')\n",
        "\n",
        "print(f'O resultado da operação é {resultado}')\n",
        "\n"
      ],
      "metadata": {
        "colab": {
          "base_uri": "https://localhost:8080/"
        },
        "id": "LFUVo_8HJ2nb",
        "outputId": "1d79ea45-d298-49f5-f303-a1ef147e012f"
      },
      "execution_count": 5,
      "outputs": [
        {
          "output_type": "stream",
          "name": "stdout",
          "text": [
            "Digite o primeiro Número: 100\n",
            "Digite o segundo Número: 25\n",
            "informe a operação com (+, -, * ou /): /\n",
            "Número inteiro\n",
            "Número par\n",
            "Número positivo\n",
            "O resultado da operação é 4.0\n"
          ]
        }
      ]
    },
    {
      "cell_type": "markdown",
      "source": [
        "Escreva um programa que peça à pessoa usuária três números que representam os lados de um triângulo. O programa deve informar se os valores podem ser utilizados para formar um triângulo e, caso afirmativo, se ele é equilátero, isósceles ou escaleno. Tenha em mente algumas dicas:\n",
        "\n",
        "Três lados formam um triângulo quando a soma de quaisquer dois lados for maior que o terceiro;\n",
        "Triângulo Equilátero: três lados iguais;\n",
        "Triângulo Isósceles: quaisquer dois lados iguais;\n",
        "Triângulo Escaleno: três lados diferentes."
      ],
      "metadata": {
        "id": "qt4S60B4ygpn"
      }
    },
    {
      "cell_type": "code",
      "source": [
        "l1 = float(input('Primeiro lado do triângulo: '))\n",
        "l2 = float(input('Segundo lado do triângulo: '))\n",
        "l3 = float(input('Terceiro lado do triângulo: '))\n",
        "\n",
        "while True:\n",
        "  if l1 + l2 > l3 and l2 + l3 > l1 and l3 + l1 > l2:\n",
        "    print('Triângulo válido')\n",
        "\n",
        "    if l1 == l2 == l3:\n",
        "      print('Triângulo Equilátero')\n",
        "    elif l1 == l2 or l2 == l3 or l3 ==l1:\n",
        "      print('Triângulo Isóceles')\n",
        "    else:\n",
        "      print('Triângulo Escaleno')\n",
        "\n",
        "    break\n",
        "  else:\n",
        "    print('Triângulo inválido.')\n",
        "    break\n",
        "\n",
        ""
      ],
      "metadata": {
        "colab": {
          "base_uri": "https://localhost:8080/"
        },
        "id": "dDMfVgyhxxR8",
        "outputId": "0b61bbca-fffd-4b1d-dad1-31b663b29bd2"
      },
      "execution_count": 28,
      "outputs": [
        {
          "output_type": "stream",
          "name": "stdout",
          "text": [
            "Primeiro lado do triângulo: 3\n",
            "Segundo lado do triângulo: 4\n",
            "Terceiro lado do triângulo: 5\n",
            "Triângulo válido\n",
            "Triângulo Escaleno\n"
          ]
        }
      ]
    },
    {
      "cell_type": "markdown",
      "source": [
        "\n",
        "Um estabelecimento está vendendo combustíveis com descontos variados. Para o etanol, se a quantidade comprada for até 15 litros, o desconto será de 2% por litro. Caso contrário, será de 4% por litro. Para o diesel, se a quantidade comprada for até 15 litros, o desconto será de 3% por litro. Caso contrário, será de 5% por litro. O preço do litro de diesel é RS 2,00 e o preço do litro de etanol é R$ 1,70. Escreva um programa que leia a quantidade de litros vendidos e o tipo de combustível (E para etanol e D para diesel) e calcule o valor a ser pago pelo cliente. Tenha em mente algumas dicas:\n",
        "\n",
        "O do valor do desconto será a multiplicação entre preço do litro, quantidade de litros e o valor do desconto.\n",
        "O valor a ser pago por um cliente será o resultado da multiplicação do preço do litro pela quantidade de litros menos o valor de desconto resultante do cálculo.\n",
        "\n",
        "\n"
      ],
      "metadata": {
        "id": "Wm5DgS0z2xBu"
      }
    },
    {
      "cell_type": "code",
      "source": [
        "while True:\n",
        "  combustivel = input('Digite o tipo de combustivel, E para Etanol e D para Diesel: ').upper()\n",
        "  quantidade = float(input('Digite o volume de combústivel desejado: '))\n",
        "  tipo = ('E', 'D')\n",
        "\n",
        "  if len(combustivel) == 1:\n",
        "    if combustivel in tipo:\n",
        "      if combustivel == 'E':\n",
        "        print(f'O combústivel selecionado foi Etanol.')\n",
        "        if quantidade <= 15:\n",
        "          valor = quantidade * 1.70 * (1-0.02)\n",
        "        else:\n",
        "          valor = quantidade * 1.70 * (1-0.04)\n",
        "        print(f'O valor pago foi de R${valor:.2f}')\n",
        "\n",
        "      elif combustivel == 'D':\n",
        "        print(f'O combústivel selecionado foi de Diesel')\n",
        "        if quantidade <= 15:\n",
        "          valor = quantidade * 2.00 * (1-0.03)\n",
        "        else:\n",
        "          valor = quantidade * 2.00 * (1-0.05)\n",
        "        print(f'O valor pago foi de R${valor:.2f}')\n",
        "      break\n",
        "    else:\n",
        "      print('Valor Inválido')\n",
        "  else:\n",
        "    print('Valor Inválido')"
      ],
      "metadata": {
        "colab": {
          "base_uri": "https://localhost:8080/"
        },
        "id": "58v9iN9Rzdu5",
        "outputId": "ca702d8e-d62b-42fd-ad44-0b5e1110229b"
      },
      "execution_count": 42,
      "outputs": [
        {
          "output_type": "stream",
          "name": "stdout",
          "text": [
            "Digite o tipo de combustivel, E para Etanol e D para Diesel: D\n",
            "Digite o volume de combústivel desejado: 90\n",
            "O combústivel selecionado foi de Diesel\n",
            "O valor pago foi de R$171.00\n"
          ]
        }
      ]
    },
    {
      "cell_type": "markdown",
      "source": [
        "Em uma empresa de venda de imóveis você precisa criar um código que analise os dados de vendas anuais para ajudar a diretoria na tomada de decisão. O código precisa coletar os dados de quantidade de venda durante os anos de 2022 e 2023 e fazer um cálculo de variação percentual. A partir do valor da variação, deve ser enviada às seguintes sugestões:\n",
        "\n",
        "Para variação acima de 20%: bonificação para o time de vendas.\n",
        "Para variação entre 2% e 20%: pequena bonificação para time de vendas.\n",
        "Para variação entre 2% e -10%: planejamento de políticas de incentivo às vendas.\n",
        "Para bonificações abaixo de -10%: corte de gastos.\n",
        "\n"
      ],
      "metadata": {
        "id": "dvzyX8rQ_kVs"
      }
    },
    {
      "cell_type": "code",
      "source": [
        "venda_2022 = float(input('Digite o valor das vendas do ano de 2022: '))\n",
        "venda_2023 = float(input('Digite o valor das vendas do ano de 2023: '))\n",
        "\n",
        "variancia = 100* (venda_2023 - venda_2022)/venda_2022\n",
        "\n",
        "if variancia > 20:\n",
        "  print('Bonificação!')\n",
        "elif 2 <= variancia <= 20:\n",
        "  print('Pequena Bonificação!')\n",
        "elif -10 <= variancia and variancia < 2:\n",
        "  print('Planejamento de políticas de incentivo às vendas')\n",
        "else:\n",
        "  print('corte de gastos')"
      ],
      "metadata": {
        "colab": {
          "base_uri": "https://localhost:8080/"
        },
        "id": "MOTaRCDr4ZQP",
        "outputId": "d92451bd-4e8b-4bfe-b96f-28de4bfc97d8"
      },
      "execution_count": 49,
      "outputs": [
        {
          "output_type": "stream",
          "name": "stdout",
          "text": [
            "Digite o valor das vendas do ano de 2022: 80\n",
            "Digite o valor das vendas do ano de 2023: 75\n",
            "Planejamento de políticas de incentivo às vendas\n"
          ]
        }
      ]
    },
    {
      "cell_type": "code",
      "source": [],
      "metadata": {
        "id": "DXHZdnT85qnK"
      },
      "execution_count": 48,
      "outputs": []
    }
  ]
}